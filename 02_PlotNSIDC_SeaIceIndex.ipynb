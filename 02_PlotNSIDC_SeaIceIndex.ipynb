{
 "cells": [
  {
   "cell_type": "markdown",
   "id": "a724e73d",
   "metadata": {},
   "source": [
    "## Plot Beaufort Sea Ice area from daily data\n",
    "\n",
    "Plot annual Beaufort sea ice area in the Beaufort Sea from NSIDC Sea Ice Index daily [NSIDC Sea Ice Index](https://nsidc.org/data/g02135), data accessed 10/17/2024 from https://masie_web.apps.nsidc.org/pub/DATASETS/NOAA/G02135/seaice_analysis/\n",
    "\n",
    "Fetterer, F., K. Knowles, W. N. Meier, M. Savoie, and A. K. Windnagel. 2017, updated daily. Sea Ice Index, Version 3. Boulder, Colorado USA. NSIDC: National Snow and Ice Data Center. doi: https://doi.org/10.7265/N5K072F8."
   ]
  },
  {
   "cell_type": "code",
   "execution_count": 1,
   "id": "0cda9f41",
   "metadata": {},
   "outputs": [],
   "source": [
    "import numpy as np, numpy.ma as ma\n",
    "import pandas as pd\n",
    "import datetime\n",
    "import matplotlib.pyplot as plt\n",
    "from matplotlib.ticker import MultipleLocator"
   ]
  },
  {
   "cell_type": "markdown",
   "id": "71ca8c45",
   "metadata": {},
   "source": [
    "## Read in Sea Ice Index data"
   ]
  },
  {
   "cell_type": "code",
   "execution_count": 3,
   "id": "1670c63a",
   "metadata": {
    "scrolled": true
   },
   "outputs": [
    {
     "ename": "FileNotFoundError",
     "evalue": "[Errno 2] No such file or directory: '/Users/mackenziejewell/Downloads/N_Sea_Ice_Index_Regional_Daily_Data_G02135_v3.0.xlsx'",
     "output_type": "error",
     "traceback": [
      "\u001b[0;31m---------------------------------------------------------------------------\u001b[0m",
      "\u001b[0;31mFileNotFoundError\u001b[0m                         Traceback (most recent call last)",
      "Cell \u001b[0;32mIn[3], line 7\u001b[0m\n\u001b[1;32m      5\u001b[0m data_path \u001b[38;5;241m=\u001b[39m \u001b[38;5;124m'\u001b[39m\u001b[38;5;124m/Users/mackenziejewell/Downloads/N_Sea_Ice_Index_Regional_Daily_Data_G02135_v3.0.xlsx\u001b[39m\u001b[38;5;124m'\u001b[39m\n\u001b[1;32m      6\u001b[0m \u001b[38;5;66;03m#========================================================================================================\u001b[39;00m\n\u001b[0;32m----> 7\u001b[0m df \u001b[38;5;241m=\u001b[39m \u001b[43mpd\u001b[49m\u001b[38;5;241;43m.\u001b[39;49m\u001b[43mread_excel\u001b[49m\u001b[43m(\u001b[49m\u001b[43mdata_path\u001b[49m\u001b[43m,\u001b[49m\u001b[43m \u001b[49m\u001b[43msheet_name\u001b[49m\u001b[38;5;241;43m=\u001b[39;49m\u001b[38;5;124;43m'\u001b[39;49m\u001b[38;5;124;43mBeaufort-Area-km^2\u001b[39;49m\u001b[38;5;124;43m'\u001b[39;49m\u001b[43m)\u001b[49m\n\u001b[1;32m      9\u001b[0m \u001b[38;5;66;03m# test plot all years\u001b[39;00m\n\u001b[1;32m     10\u001b[0m year_columns \u001b[38;5;241m=\u001b[39m df\u001b[38;5;241m.\u001b[39mcolumns[\u001b[38;5;241m2\u001b[39m:]\n",
      "File \u001b[0;32m/opt/anaconda3/envs/geoenvOSU/lib/python3.9/site-packages/pandas/util/_decorators.py:211\u001b[0m, in \u001b[0;36mdeprecate_kwarg.<locals>._deprecate_kwarg.<locals>.wrapper\u001b[0;34m(*args, **kwargs)\u001b[0m\n\u001b[1;32m    209\u001b[0m     \u001b[38;5;28;01melse\u001b[39;00m:\n\u001b[1;32m    210\u001b[0m         kwargs[new_arg_name] \u001b[38;5;241m=\u001b[39m new_arg_value\n\u001b[0;32m--> 211\u001b[0m \u001b[38;5;28;01mreturn\u001b[39;00m \u001b[43mfunc\u001b[49m\u001b[43m(\u001b[49m\u001b[38;5;241;43m*\u001b[39;49m\u001b[43margs\u001b[49m\u001b[43m,\u001b[49m\u001b[43m \u001b[49m\u001b[38;5;241;43m*\u001b[39;49m\u001b[38;5;241;43m*\u001b[39;49m\u001b[43mkwargs\u001b[49m\u001b[43m)\u001b[49m\n",
      "File \u001b[0;32m/opt/anaconda3/envs/geoenvOSU/lib/python3.9/site-packages/pandas/util/_decorators.py:331\u001b[0m, in \u001b[0;36mdeprecate_nonkeyword_arguments.<locals>.decorate.<locals>.wrapper\u001b[0;34m(*args, **kwargs)\u001b[0m\n\u001b[1;32m    325\u001b[0m \u001b[38;5;28;01mif\u001b[39;00m \u001b[38;5;28mlen\u001b[39m(args) \u001b[38;5;241m>\u001b[39m num_allow_args:\n\u001b[1;32m    326\u001b[0m     warnings\u001b[38;5;241m.\u001b[39mwarn(\n\u001b[1;32m    327\u001b[0m         msg\u001b[38;5;241m.\u001b[39mformat(arguments\u001b[38;5;241m=\u001b[39m_format_argument_list(allow_args)),\n\u001b[1;32m    328\u001b[0m         \u001b[38;5;167;01mFutureWarning\u001b[39;00m,\n\u001b[1;32m    329\u001b[0m         stacklevel\u001b[38;5;241m=\u001b[39mfind_stack_level(),\n\u001b[1;32m    330\u001b[0m     )\n\u001b[0;32m--> 331\u001b[0m \u001b[38;5;28;01mreturn\u001b[39;00m \u001b[43mfunc\u001b[49m\u001b[43m(\u001b[49m\u001b[38;5;241;43m*\u001b[39;49m\u001b[43margs\u001b[49m\u001b[43m,\u001b[49m\u001b[43m \u001b[49m\u001b[38;5;241;43m*\u001b[39;49m\u001b[38;5;241;43m*\u001b[39;49m\u001b[43mkwargs\u001b[49m\u001b[43m)\u001b[49m\n",
      "File \u001b[0;32m/opt/anaconda3/envs/geoenvOSU/lib/python3.9/site-packages/pandas/io/excel/_base.py:482\u001b[0m, in \u001b[0;36mread_excel\u001b[0;34m(io, sheet_name, header, names, index_col, usecols, squeeze, dtype, engine, converters, true_values, false_values, skiprows, nrows, na_values, keep_default_na, na_filter, verbose, parse_dates, date_parser, thousands, decimal, comment, skipfooter, convert_float, mangle_dupe_cols, storage_options)\u001b[0m\n\u001b[1;32m    480\u001b[0m \u001b[38;5;28;01mif\u001b[39;00m \u001b[38;5;129;01mnot\u001b[39;00m \u001b[38;5;28misinstance\u001b[39m(io, ExcelFile):\n\u001b[1;32m    481\u001b[0m     should_close \u001b[38;5;241m=\u001b[39m \u001b[38;5;28;01mTrue\u001b[39;00m\n\u001b[0;32m--> 482\u001b[0m     io \u001b[38;5;241m=\u001b[39m \u001b[43mExcelFile\u001b[49m\u001b[43m(\u001b[49m\u001b[43mio\u001b[49m\u001b[43m,\u001b[49m\u001b[43m \u001b[49m\u001b[43mstorage_options\u001b[49m\u001b[38;5;241;43m=\u001b[39;49m\u001b[43mstorage_options\u001b[49m\u001b[43m,\u001b[49m\u001b[43m \u001b[49m\u001b[43mengine\u001b[49m\u001b[38;5;241;43m=\u001b[39;49m\u001b[43mengine\u001b[49m\u001b[43m)\u001b[49m\n\u001b[1;32m    483\u001b[0m \u001b[38;5;28;01melif\u001b[39;00m engine \u001b[38;5;129;01mand\u001b[39;00m engine \u001b[38;5;241m!=\u001b[39m io\u001b[38;5;241m.\u001b[39mengine:\n\u001b[1;32m    484\u001b[0m     \u001b[38;5;28;01mraise\u001b[39;00m \u001b[38;5;167;01mValueError\u001b[39;00m(\n\u001b[1;32m    485\u001b[0m         \u001b[38;5;124m\"\u001b[39m\u001b[38;5;124mEngine should not be specified when passing \u001b[39m\u001b[38;5;124m\"\u001b[39m\n\u001b[1;32m    486\u001b[0m         \u001b[38;5;124m\"\u001b[39m\u001b[38;5;124man ExcelFile - ExcelFile already has the engine set\u001b[39m\u001b[38;5;124m\"\u001b[39m\n\u001b[1;32m    487\u001b[0m     )\n",
      "File \u001b[0;32m/opt/anaconda3/envs/geoenvOSU/lib/python3.9/site-packages/pandas/io/excel/_base.py:1652\u001b[0m, in \u001b[0;36mExcelFile.__init__\u001b[0;34m(self, path_or_buffer, engine, storage_options)\u001b[0m\n\u001b[1;32m   1650\u001b[0m     ext \u001b[38;5;241m=\u001b[39m \u001b[38;5;124m\"\u001b[39m\u001b[38;5;124mxls\u001b[39m\u001b[38;5;124m\"\u001b[39m\n\u001b[1;32m   1651\u001b[0m \u001b[38;5;28;01melse\u001b[39;00m:\n\u001b[0;32m-> 1652\u001b[0m     ext \u001b[38;5;241m=\u001b[39m \u001b[43minspect_excel_format\u001b[49m\u001b[43m(\u001b[49m\n\u001b[1;32m   1653\u001b[0m \u001b[43m        \u001b[49m\u001b[43mcontent_or_path\u001b[49m\u001b[38;5;241;43m=\u001b[39;49m\u001b[43mpath_or_buffer\u001b[49m\u001b[43m,\u001b[49m\u001b[43m \u001b[49m\u001b[43mstorage_options\u001b[49m\u001b[38;5;241;43m=\u001b[39;49m\u001b[43mstorage_options\u001b[49m\n\u001b[1;32m   1654\u001b[0m \u001b[43m    \u001b[49m\u001b[43m)\u001b[49m\n\u001b[1;32m   1655\u001b[0m     \u001b[38;5;28;01mif\u001b[39;00m ext \u001b[38;5;129;01mis\u001b[39;00m \u001b[38;5;28;01mNone\u001b[39;00m:\n\u001b[1;32m   1656\u001b[0m         \u001b[38;5;28;01mraise\u001b[39;00m \u001b[38;5;167;01mValueError\u001b[39;00m(\n\u001b[1;32m   1657\u001b[0m             \u001b[38;5;124m\"\u001b[39m\u001b[38;5;124mExcel file format cannot be determined, you must specify \u001b[39m\u001b[38;5;124m\"\u001b[39m\n\u001b[1;32m   1658\u001b[0m             \u001b[38;5;124m\"\u001b[39m\u001b[38;5;124man engine manually.\u001b[39m\u001b[38;5;124m\"\u001b[39m\n\u001b[1;32m   1659\u001b[0m         )\n",
      "File \u001b[0;32m/opt/anaconda3/envs/geoenvOSU/lib/python3.9/site-packages/pandas/io/excel/_base.py:1525\u001b[0m, in \u001b[0;36minspect_excel_format\u001b[0;34m(content_or_path, storage_options)\u001b[0m\n\u001b[1;32m   1522\u001b[0m \u001b[38;5;28;01mif\u001b[39;00m \u001b[38;5;28misinstance\u001b[39m(content_or_path, \u001b[38;5;28mbytes\u001b[39m):\n\u001b[1;32m   1523\u001b[0m     content_or_path \u001b[38;5;241m=\u001b[39m BytesIO(content_or_path)\n\u001b[0;32m-> 1525\u001b[0m \u001b[38;5;28;01mwith\u001b[39;00m \u001b[43mget_handle\u001b[49m\u001b[43m(\u001b[49m\n\u001b[1;32m   1526\u001b[0m \u001b[43m    \u001b[49m\u001b[43mcontent_or_path\u001b[49m\u001b[43m,\u001b[49m\u001b[43m \u001b[49m\u001b[38;5;124;43m\"\u001b[39;49m\u001b[38;5;124;43mrb\u001b[39;49m\u001b[38;5;124;43m\"\u001b[39;49m\u001b[43m,\u001b[49m\u001b[43m \u001b[49m\u001b[43mstorage_options\u001b[49m\u001b[38;5;241;43m=\u001b[39;49m\u001b[43mstorage_options\u001b[49m\u001b[43m,\u001b[49m\u001b[43m \u001b[49m\u001b[43mis_text\u001b[49m\u001b[38;5;241;43m=\u001b[39;49m\u001b[38;5;28;43;01mFalse\u001b[39;49;00m\n\u001b[1;32m   1527\u001b[0m \u001b[43m\u001b[49m\u001b[43m)\u001b[49m \u001b[38;5;28;01mas\u001b[39;00m handle:\n\u001b[1;32m   1528\u001b[0m     stream \u001b[38;5;241m=\u001b[39m handle\u001b[38;5;241m.\u001b[39mhandle\n\u001b[1;32m   1529\u001b[0m     stream\u001b[38;5;241m.\u001b[39mseek(\u001b[38;5;241m0\u001b[39m)\n",
      "File \u001b[0;32m/opt/anaconda3/envs/geoenvOSU/lib/python3.9/site-packages/pandas/io/common.py:865\u001b[0m, in \u001b[0;36mget_handle\u001b[0;34m(path_or_buf, mode, encoding, compression, memory_map, is_text, errors, storage_options)\u001b[0m\n\u001b[1;32m    856\u001b[0m         handle \u001b[38;5;241m=\u001b[39m \u001b[38;5;28mopen\u001b[39m(\n\u001b[1;32m    857\u001b[0m             handle,\n\u001b[1;32m    858\u001b[0m             ioargs\u001b[38;5;241m.\u001b[39mmode,\n\u001b[0;32m   (...)\u001b[0m\n\u001b[1;32m    861\u001b[0m             newline\u001b[38;5;241m=\u001b[39m\u001b[38;5;124m\"\u001b[39m\u001b[38;5;124m\"\u001b[39m,\n\u001b[1;32m    862\u001b[0m         )\n\u001b[1;32m    863\u001b[0m     \u001b[38;5;28;01melse\u001b[39;00m:\n\u001b[1;32m    864\u001b[0m         \u001b[38;5;66;03m# Binary mode\u001b[39;00m\n\u001b[0;32m--> 865\u001b[0m         handle \u001b[38;5;241m=\u001b[39m \u001b[38;5;28;43mopen\u001b[39;49m\u001b[43m(\u001b[49m\u001b[43mhandle\u001b[49m\u001b[43m,\u001b[49m\u001b[43m \u001b[49m\u001b[43mioargs\u001b[49m\u001b[38;5;241;43m.\u001b[39;49m\u001b[43mmode\u001b[49m\u001b[43m)\u001b[49m\n\u001b[1;32m    866\u001b[0m     handles\u001b[38;5;241m.\u001b[39mappend(handle)\n\u001b[1;32m    868\u001b[0m \u001b[38;5;66;03m# Convert BytesIO or file objects passed with an encoding\u001b[39;00m\n",
      "\u001b[0;31mFileNotFoundError\u001b[0m: [Errno 2] No such file or directory: '/Users/mackenziejewell/Downloads/N_Sea_Ice_Index_Regional_Daily_Data_G02135_v3.0.xlsx'"
     ]
    }
   ],
   "source": [
    "# import .xlsx file with regional ice area data from sea ice index\n",
    "# from sheet with Beaufort Sea sea ice area\n",
    "\n",
    "#========================================================================================================\n",
    "data_path = '/Users/mackenziejewell/Downloads/N_Sea_Ice_Index_Regional_Daily_Data_G02135_v3.0.xlsx'\n",
    "#========================================================================================================\n",
    "df = pd.read_excel(data_path, sheet_name='Beaufort-Area-km^2')\n",
    "\n",
    "# test plot all years\n",
    "year_columns = df.columns[2:]\n",
    "print(year_columns)\n",
    "for year in year_columns:\n",
    "    df[year].plot()\n",
    "    "
   ]
  },
  {
   "cell_type": "code",
   "execution_count": null,
   "id": "f5ee7d61",
   "metadata": {},
   "outputs": [],
   "source": [
    "df.columns[2+6:47]"
   ]
  },
  {
   "cell_type": "code",
   "execution_count": null,
   "id": "4b0f6c2c",
   "metadata": {},
   "outputs": [],
   "source": [
    "df.columns[2+2:24]"
   ]
  },
  {
   "cell_type": "code",
   "execution_count": null,
   "id": "23f02ebc",
   "metadata": {},
   "outputs": [],
   "source": [
    "df.columns[25:]"
   ]
  },
  {
   "cell_type": "markdown",
   "id": "a574f471",
   "metadata": {},
   "source": [
    "## Find area percentiles across all years\n",
    "and shift days to start in November"
   ]
  },
  {
   "cell_type": "code",
   "execution_count": 5,
   "id": "64deb8f7",
   "metadata": {},
   "outputs": [
    {
     "ename": "NameError",
     "evalue": "name 'df' is not defined",
     "output_type": "error",
     "traceback": [
      "\u001b[0;31m---------------------------------------------------------------------------\u001b[0m",
      "\u001b[0;31mNameError\u001b[0m                                 Traceback (most recent call last)",
      "Cell \u001b[0;32mIn[5], line 20\u001b[0m\n\u001b[1;32m     16\u001b[0m     areas_past[perc] \u001b[38;5;241m=\u001b[39m np\u001b[38;5;241m.\u001b[39marray([])\n\u001b[1;32m     18\u001b[0m \u001b[38;5;28;01mfor\u001b[39;00m ind \u001b[38;5;129;01min\u001b[39;00m jind:\n\u001b[0;32m---> 20\u001b[0m     vals \u001b[38;5;241m=\u001b[39m \u001b[43mdf\u001b[49m\u001b[38;5;241m.\u001b[39mloc[df\u001b[38;5;241m.\u001b[39mindex\u001b[38;5;241m==\u001b[39mind]\u001b[38;5;241m.\u001b[39mvalues[\u001b[38;5;241m0\u001b[39m,\u001b[38;5;241m2\u001b[39m\u001b[38;5;241m+\u001b[39m\u001b[38;5;241m6\u001b[39m:\u001b[38;5;241m47\u001b[39m]\u001b[38;5;241m/\u001b[39m(\u001b[38;5;241m10\u001b[39m\u001b[38;5;241m*\u001b[39m\u001b[38;5;241m*\u001b[39m\u001b[38;5;241m6\u001b[39m)\n\u001b[1;32m     21\u001b[0m     vals_rec \u001b[38;5;241m=\u001b[39m df\u001b[38;5;241m.\u001b[39mloc[df\u001b[38;5;241m.\u001b[39mindex\u001b[38;5;241m==\u001b[39mind]\u001b[38;5;241m.\u001b[39mvalues[\u001b[38;5;241m0\u001b[39m,\u001b[38;5;241m25\u001b[39m:]\u001b[38;5;241m/\u001b[39m(\u001b[38;5;241m10\u001b[39m\u001b[38;5;241m*\u001b[39m\u001b[38;5;241m*\u001b[39m\u001b[38;5;241m6\u001b[39m)\n\u001b[1;32m     22\u001b[0m     vals_past \u001b[38;5;241m=\u001b[39m df\u001b[38;5;241m.\u001b[39mloc[df\u001b[38;5;241m.\u001b[39mindex\u001b[38;5;241m==\u001b[39mind]\u001b[38;5;241m.\u001b[39mvalues[\u001b[38;5;241m0\u001b[39m,\u001b[38;5;241m2\u001b[39m\u001b[38;5;241m+\u001b[39m\u001b[38;5;241m6\u001b[39m:\u001b[38;5;241m24\u001b[39m]\u001b[38;5;241m/\u001b[39m(\u001b[38;5;241m10\u001b[39m\u001b[38;5;241m*\u001b[39m\u001b[38;5;241m*\u001b[39m\u001b[38;5;241m6\u001b[39m)\n",
      "\u001b[0;31mNameError\u001b[0m: name 'df' is not defined"
     ]
    }
   ],
   "source": [
    "julian = np.arange(1,366)\n",
    "julian_shift = np.append(julian[np.where(julian == 247)[0][0]:], julian[:np.where(julian == 247)[0][0]])\n",
    "jind = julian_shift - 1\n",
    "\n",
    "areas = {}\n",
    "for perc in [5,25,50,75,95]:\n",
    "    areas[perc] = np.array([])\n",
    "\n",
    "    \n",
    "areas_rec = {}\n",
    "for perc in [5,25,50,75,95]:\n",
    "    areas_rec[perc] = np.array([])\n",
    "    \n",
    "areas_past = {}\n",
    "for perc in [5,25,50,75,95]:\n",
    "    areas_past[perc] = np.array([])\n",
    "    \n",
    "for ind in jind:\n",
    "    \n",
    "    vals = df.loc[df.index==ind].values[0,2+6:47]/(10**6)\n",
    "    vals_rec = df.loc[df.index==ind].values[0,25:]/(10**6)\n",
    "    vals_past = df.loc[df.index==ind].values[0,2+6:24]/(10**6)\n",
    "    \n",
    "    for key in areas.keys():\n",
    "        \n",
    "        areas[key] = np.append(areas[key], np.nanpercentile(vals, key))\n",
    "        areas_rec[key] = np.append(areas_rec[key], np.nanpercentile(vals_rec, key))\n",
    "        areas_past[key] = np.append(areas_past[key], np.nanpercentile(vals_past, key))\n",
    "    "
   ]
  },
  {
   "cell_type": "markdown",
   "id": "9cc6f524",
   "metadata": {},
   "source": [
    "## Plot"
   ]
  },
  {
   "cell_type": "code",
   "execution_count": null,
   "id": "52c61467",
   "metadata": {},
   "outputs": [],
   "source": [
    "\n",
    "fig, ax = plt.subplots(figsize=(5,2))\n",
    "ax.set_ylim(0,1)\n",
    "ax.set_xlim(-1,365)\n",
    "\n",
    "ax.plot(areas[50], c='k', lw=2, zorder=5)\n",
    "ax.fill_between(np.arange(len(areas[25])), areas[5], areas[95], color='lightgray', alpha=0.75, lw=0)\n",
    "ax.fill_between(np.arange(len(areas[25])), areas[25], areas[75], color='darkgray')\n",
    "\n",
    "\n",
    "\n",
    "\n",
    "# for perc in [5, 95]:\n",
    "#     ax.plot(areas[perc], c='k', lw=0.5)\n",
    "\n",
    "# Specify tick label size\n",
    "ax.tick_params(axis = 'both', which = 'major', labelsize = 10)\n",
    "# ax.tick_params(axis = 'both', which = 'minor', labelsize = 10, ticksize=0)\n",
    "\n",
    "ax.set_xticks(np.arange(0,360,30.44));\n",
    "ax.set_xticklabels([])\n",
    "# ax.set_xticklabels(['O', 'N', 'D', 'J', 'F', 'M', 'A', 'M', 'J', 'J', 'A', 'S']);\n",
    "\n",
    "yy = 1.05\n",
    "LW = 5\n",
    "C='gray'\n",
    "A=0.65\n",
    "ax.plot([0,85], [yy,yy], c='gray', lw=LW, clip_on=False, alpha=A)\n",
    "ax.text(45, yy+0.05, 'Fall', ha='center', c=C)\n",
    "ax.plot([95,179], [yy,yy], c='gray', lw=LW, clip_on=False, alpha=A)\n",
    "ax.text(140, yy+0.05, 'Winter', ha='center', c=C)\n",
    "ax.plot([189,270], [yy,yy], c='gray', lw=LW, clip_on=False, alpha=A)\n",
    "ax.text(230, yy+0.05, 'Spring', ha='center', c=C)\n",
    "ax.plot([280,365], [yy,yy], c='gray', lw=LW, clip_on=False, alpha=A)\n",
    "ax.text(325, yy+0.05, 'Summer', ha='center', c=C)\n",
    "\n",
    "yy = 1.25\n",
    "W='bold'\n",
    "ax.plot([24,56+30], [yy,yy], c=[0.5,0.6,0.95], lw=LW, clip_on=False)\n",
    "ax.text(28+28, yy+0.05, 'Freeze-up', ha='center', weight=W)\n",
    "ax.plot([66+30,205+30], [yy,yy], c=[0.7,0.8,0.95], lw=LW, clip_on=False)\n",
    "ax.text(135+30, yy+0.05, 'Consolidated', ha='center', weight=W)\n",
    "ax.plot([215+30,285+30], [yy,yy], c='lightcoral', lw=LW, clip_on=False)\n",
    "ax.text(250+30, yy+0.05, 'Break-up', ha='center', weight=W)\n",
    "ax.plot([0,15], [yy,yy], c=[0.95,0.25,0.25], lw=LW, clip_on=False)\n",
    "ax.plot([295+30,364], [yy,yy], c=[0.95,0.25,0.25], lw=LW, clip_on=False)\n",
    "ax.text(345, yy+0.05, 'Open', ha='center', weight=W)\n",
    "\n",
    "for xx, label in zip(np.arange(15,370,30.44), ['S','O', 'N', 'D', 'J', 'F', 'M', 'A', 'M', 'J', 'J', 'A']):\n",
    "    ax.text(xx, -0.125, label, size=10, ha='center')\n",
    "    \n",
    "ax.set_ylabel('Beaufort Sea\\nIce Area ($\\mathrm{10^6\\;{km}^{2}}$)')\n",
    "ax.set_xlabel('Month', labelpad=15)\n",
    "\n",
    "ax.text(0.01,0.015,'NSIDC Sea Ice Index (1984-2022)', ha='left', va='bottom', c='darkgray', \n",
    "        size = 8.5, transform=ax.transAxes, zorder=1)\n",
    "\n",
    "\n",
    "\n",
    "# include decades\n",
    "# ax.plot(areas_rec[50], c='indianred', lw=1.75, zorder=3)\n",
    "# ax.plot(areas_past[50], c='dodgerblue', lw=1.75, zorder=3)\n",
    "\n",
    "# ax.text(0.98,0.825,'pre-2000', \n",
    "#         ha='right', va='bottom', c='dodgerblue', weight='bold',transform=ax.transAxes, zorder=1)\n",
    "# ax.text(0.85,0.45,'post-2000', \n",
    "#         ha='right', va='bottom', c='indianred',weight='bold', transform=ax.transAxes, zorder=1)\n",
    "\n",
    "\n",
    "\n",
    "\n",
    "# ax.xaxis.set_major_locator(ticker.MultipleLocator(30))\n",
    "# ax.xaxis.set_minor_ticks(np.arange(15,100,30))\n",
    "\n",
    "\n",
    "# fig.savefig('/Users/mackenziejewell/Desktop/BeaufortIceArea_change.png', dpi=400, bbox_inches='tight', pad_inches=0)\n"
   ]
  },
  {
   "cell_type": "code",
   "execution_count": 2,
   "id": "748a85c0",
   "metadata": {},
   "outputs": [],
   "source": [
    "import xarray as xr"
   ]
  },
  {
   "cell_type": "code",
   "execution_count": 16,
   "id": "9d074265",
   "metadata": {},
   "outputs": [],
   "source": [
    "ds = xr.open_dataset('/Users/mackenziejewell/Desktop/BeaufortDrift.nc')\n",
    "ds.close()\n",
    "\n",
    "ds2 = xr.open_dataset('/Users/mackenziejewell/Desktop/BeaufortAtmos.nc')\n",
    "ds2.close()\n",
    "\n",
    "drift = {}\n",
    "for perc in [5,25,50,75,95]:\n",
    "    drift[perc] = np.array([])\n",
    "    \n",
    "drift_rec = {}\n",
    "for perc in [5,25,50,75,95]:\n",
    "    drift_rec[perc] = np.array([])\n",
    "    \n",
    "drift_past = {}\n",
    "for perc in [5,25,50,75,95]:\n",
    "    drift_past[perc] = np.array([])\n",
    "    \n",
    "    \n",
    "wind = {}\n",
    "for perc in [5,25,50,75,95]:\n",
    "    wind[perc] = np.array([])\n",
    "    \n",
    "wind_rec = {}\n",
    "for perc in [5,25,50,75,95]:\n",
    "    wind_rec[perc] = np.array([])\n",
    "    \n",
    "wind_past = {}\n",
    "for perc in [5,25,50,75,95]:\n",
    "    wind_past[perc] = np.array([])\n",
    "    \n",
    "    \n",
    "drift_2021 = np.array([])\n",
    "\n",
    "\n",
    "for doy in julian_shift:\n",
    "    \n",
    "    vals = ds.sel(year = slice(1984, 2022), doy=doy).speed.values\n",
    "    vals_past = ds.sel(year = slice(1984, 1999), doy=doy).speed.values\n",
    "    vals_rec = ds.sel(year = slice(2001, 2022), doy=doy).speed.values\n",
    "    \n",
    "    drift_2021 = np.append(drift_2021, ds2.sel(year = 1998, doy=doy).speed.values)\n",
    "    \n",
    "    vals2 = ds2.sel(year = slice(1984, 2022), doy=doy).speed.values\n",
    "    vals2_past = ds2.sel(year = slice(1984, 1999), doy=doy).speed.values\n",
    "    vals2_rec = ds2.sel(year = slice(2001, 2022), doy=doy).speed.values\n",
    "    \n",
    "    for key in drift.keys():\n",
    "        drift[key] = np.append(drift[key], np.nanpercentile(vals, key))\n",
    "        drift_past[key] = np.append(drift_past[key], np.nanpercentile(vals_past, key))\n",
    "        drift_rec[key] = np.append(drift_rec[key], np.nanpercentile(vals_rec, key))\n",
    "        \n",
    "        \n",
    "        wind[key] = np.append(wind[key], np.nanpercentile(vals2, key))\n",
    "        wind_past[key] = np.append(wind_past[key], np.nanpercentile(vals2_past, key))\n",
    "        wind_rec[key] = np.append(wind_rec[key], np.nanpercentile(vals2_rec, key))\n",
    "        \n",
    "        \n"
   ]
  },
  {
   "cell_type": "code",
   "execution_count": 17,
   "id": "11d87511",
   "metadata": {},
   "outputs": [
    {
     "ename": "NameError",
     "evalue": "name 'LW' is not defined",
     "output_type": "error",
     "traceback": [
      "\u001b[0;31m---------------------------------------------------------------------------\u001b[0m",
      "\u001b[0;31mNameError\u001b[0m                                 Traceback (most recent call last)",
      "Cell \u001b[0;32mIn[17], line 50\u001b[0m\n\u001b[1;32m     48\u001b[0m offset \u001b[38;5;241m=\u001b[39m \u001b[38;5;241m0.75\u001b[39m\n\u001b[1;32m     49\u001b[0m W\u001b[38;5;241m=\u001b[39m\u001b[38;5;124m'\u001b[39m\u001b[38;5;124mbold\u001b[39m\u001b[38;5;124m'\u001b[39m\n\u001b[0;32m---> 50\u001b[0m ax\u001b[38;5;241m.\u001b[39mplot([\u001b[38;5;241m24\u001b[39m,\u001b[38;5;241m56\u001b[39m\u001b[38;5;241m+\u001b[39m\u001b[38;5;241m30\u001b[39m], [yy,yy], c\u001b[38;5;241m=\u001b[39m[\u001b[38;5;241m0.5\u001b[39m,\u001b[38;5;241m0.6\u001b[39m,\u001b[38;5;241m0.95\u001b[39m], lw\u001b[38;5;241m=\u001b[39m\u001b[43mLW\u001b[49m, clip_on\u001b[38;5;241m=\u001b[39m\u001b[38;5;28;01mFalse\u001b[39;00m)\n\u001b[1;32m     51\u001b[0m ax\u001b[38;5;241m.\u001b[39mtext(\u001b[38;5;241m28\u001b[39m\u001b[38;5;241m+\u001b[39m\u001b[38;5;241m28\u001b[39m, yy\u001b[38;5;241m+\u001b[39moffset, \u001b[38;5;124m'\u001b[39m\u001b[38;5;124mFreeze-up\u001b[39m\u001b[38;5;124m'\u001b[39m, ha\u001b[38;5;241m=\u001b[39m\u001b[38;5;124m'\u001b[39m\u001b[38;5;124mcenter\u001b[39m\u001b[38;5;124m'\u001b[39m, weight\u001b[38;5;241m=\u001b[39mW)\n\u001b[1;32m     52\u001b[0m ax\u001b[38;5;241m.\u001b[39mplot([\u001b[38;5;241m66\u001b[39m\u001b[38;5;241m+\u001b[39m\u001b[38;5;241m30\u001b[39m,\u001b[38;5;241m205\u001b[39m\u001b[38;5;241m+\u001b[39m\u001b[38;5;241m30\u001b[39m], [yy,yy], c\u001b[38;5;241m=\u001b[39m[\u001b[38;5;241m0.7\u001b[39m,\u001b[38;5;241m0.8\u001b[39m,\u001b[38;5;241m0.95\u001b[39m], lw\u001b[38;5;241m=\u001b[39mLW, clip_on\u001b[38;5;241m=\u001b[39m\u001b[38;5;28;01mFalse\u001b[39;00m)\n",
      "\u001b[0;31mNameError\u001b[0m: name 'LW' is not defined"
     ]
    },
    {
     "data": {
      "image/png": "[encoded data removed]",
      "text/plain": [
       "<Figure size 500x200 with 1 Axes>"
      ]
     },
     "metadata": {},
     "output_type": "display_data"
    }
   ],
   "source": [
    "\n",
    "fig, ax = plt.subplots(figsize=(5,2))\n",
    "ax.set_ylim(0,15)\n",
    "ax.set_xlim(-1,365)\n",
    "\n",
    "ax.plot(drift[50], c='k', lw=2, zorder=5)\n",
    "ax.fill_between(np.arange(len(drift[25])), drift[5], drift[95], color='lightgray', alpha=0.75, lw=0)\n",
    "ax.fill_between(np.arange(len(drift[25])), drift[25], drift[75], color='darkgray')\n",
    "\n",
    "# Specify tick label size\n",
    "ax.tick_params(axis = 'both', which = 'major', labelsize = 10)\n",
    "\n",
    "ax.set_xticks(np.arange(0,360,30.44));\n",
    "ax.set_xticklabels([])\n",
    "for xx, label in zip(np.arange(15,370,30.44), ['S','O', 'N', 'D', 'J', 'F', 'M', 'A', 'M', 'J', 'J', 'A']):\n",
    "    ax.text(xx, -2, label, size=10, ha='center')\n",
    "    \n",
    "\n",
    "ax.set_ylabel('Beaufort Sea\\nIce Speed ($\\mathrm{cm\\;\\;{s}^{-1}}$)')\n",
    "ax.set_xlabel('Month', labelpad=15)\n",
    "\n",
    "ax.text(0.01,0.01,'NSIDC Sea Ice drift (1984-2022)', ha='left', va='bottom', c='darkgray', \n",
    "        size = 8.5, transform=ax.transAxes, zorder=1)\n",
    "\n",
    "# include decades\n",
    "# ax.plot(drift_rec[50], c='indianred', lw=1.5, zorder=3)\n",
    "# ax.plot(drift_past[50], c='dodgerblue', lw=1.5, zorder=3)\n",
    "\n",
    "# ax.text(0.15,0.225,'pre-2000', \n",
    "#         ha='center', va='bottom', c='dodgerblue', weight='bold',transform=ax.transAxes, zorder=1)\n",
    "# ax.text(0.15,0.85,'post-2000', \n",
    "#         ha='center', va='bottom', c='indianred',weight='bold', transform=ax.transAxes, zorder=1)\n",
    "\n",
    "# ax2 = ax.twinx()\n",
    "# ax2.set_ylim(3,7)\n",
    "# # ax2.plot(wind[50], c='r', lw=3, zorder=5)\n",
    "# ax2.plot(wind[50], c='mediumpurple', lw=1, zorder=5)\n",
    "# # ax.text(0.15,0.85,'wind ($\\mathrm{m\\;\\;{s}^{-1}}$)', \n",
    "# #         ha='center', va='bottom', c='indianred',weight='bold', transform=ax.transAxes, zorder=1)\n",
    "# ax2.set_ylabel('Wind Speed\\n($\\mathrm{m\\;\\;{s}^{-1}}$)', c='mediumpurple')\n",
    "# ax2.set_yticklabels([3,4,5,6,7], c='mediumpurple')\n",
    "\n",
    "# ax2.fill_between(np.arange(len(wind[25])), wind[5], wind[95], color='lightgray', alpha=0.75, lw=0)\n",
    "# ax2.fill_between(np.arange(len(wind[25])), wind[25], wind[75], color='darkgray')\n",
    "# ax2.plot(wind_rec[50], c='indianred', lw=1.5, zorder=3)\n",
    "# ax2.plot(wind_past[50], c='dodgerblue', lw=1.5, zorder=3)\n",
    "\n",
    "yy = 16\n",
    "offset = 0.75\n",
    "W='bold'\n",
    "ax.plot([24,56+30], [yy,yy], c=[0.5,0.6,0.95], lw=LW, clip_on=False)\n",
    "ax.text(28+28, yy+offset, 'Freeze-up', ha='center', weight=W)\n",
    "ax.plot([66+30,205+30], [yy,yy], c=[0.7,0.8,0.95], lw=LW, clip_on=False)\n",
    "ax.text(135+30, yy+offset, 'Consolidated', ha='center', weight=W)\n",
    "ax.plot([215+30,285+30], [yy,yy], c='lightcoral', lw=LW, clip_on=False)\n",
    "ax.text(250+30, yy+offset, 'Break-up', ha='center', weight=W)\n",
    "ax.plot([295+30,364], [yy,yy], c=[0.95,0.25,0.25], lw=LW, clip_on=False)\n",
    "ax.text(345, yy+offset, 'Open', ha='center', weight=W)\n",
    "\n",
    "\n",
    "# fig.savefig('/Users/mackenziejewell/Desktop/BeaufortIceDrift_nochange_nowind.png', dpi=400, bbox_inches='tight', pad_inches=0)\n"
   ]
  },
  {
   "cell_type": "code",
   "execution_count": null,
   "id": "d136e794",
   "metadata": {},
   "outputs": [],
   "source": []
  }
 ],
 "metadata": {
  "kernelspec": {
   "display_name": "geoenvOSU",
   "language": "python",
   "name": "geoenvosu"
  },
  "language_info": {
   "codemirror_mode": {
    "name": "ipython",
    "version": 3
   },
   "file_extension": ".py",
   "mimetype": "text/x-python",
   "name": "python",
   "nbconvert_exporter": "python",
   "pygments_lexer": "ipython3",
   "version": "3.9.12"
  }
 },
 "nbformat": 4,
 "nbformat_minor": 5
}
